{
  "nbformat": 4,
  "nbformat_minor": 0,
  "metadata": {
    "colab": {
      "name": "Week1.ipynb",
      "provenance": [],
      "toc_visible": true,
      "authorship_tag": "ABX9TyPUApPbu4d2uSubUSSuxh5n",
      "include_colab_link": true
    },
    "kernelspec": {
      "name": "python3",
      "display_name": "Python 3"
    },
    "language_info": {
      "name": "python"
    }
  },
  "cells": [
    {
      "cell_type": "markdown",
      "metadata": {
        "id": "view-in-github",
        "colab_type": "text"
      },
      "source": [
        "<a href=\"https://colab.research.google.com/github/JeongChan2/machinelearning_deeplearning/blob/main/Week1.ipynb\" target=\"_parent\"><img src=\"https://colab.research.google.com/assets/colab-badge.svg\" alt=\"Open In Colab\"/></a>"
      ]
    },
    {
      "cell_type": "code",
      "execution_count": null,
      "metadata": {
        "id": "On5y8YTy3brt",
        "colab": {
          "base_uri": "https://localhost:8080/"
        },
        "outputId": "a713f1d2-4553-468b-f35a-56d35f0492d3"
      },
      "outputs": [
        {
          "output_type": "execute_result",
          "data": {
            "text/plain": [
              "numpy.ndarray"
            ]
          },
          "metadata": {},
          "execution_count": 12
        }
      ],
      "source": [
        "from tensorflow.keras import datasets\n",
        "(train_data,train_label), (test_data, test_label)=datasets.boston_housing.load_data()\n",
        "type(train_data)"
      ]
    },
    {
      "cell_type": "code",
      "source": [
        "from sklearn.linear_model import LinearRegression"
      ],
      "metadata": {
        "id": "2rufQi4cGAY4"
      },
      "execution_count": null,
      "outputs": []
    },
    {
      "cell_type": "code",
      "source": [
        "from tensorflow.keras import datasets\n",
        "from sklearn.linear_model import LinearRegression\n",
        "(train_data,train_label), (test_data, test_label)=\\\n",
        "datasets.boston_housing.load_data()\n",
        "type(train_data)\n",
        "model_lr = LinearRegression()\n",
        "model_lr.fit(train_data,train_label)\n",
        "prediction_lr = model_lr.predict(test_data)\n",
        "error = sum(abs(prediction_lr-test_label))/102\n",
        "print(error)"
      ],
      "metadata": {
        "colab": {
          "base_uri": "https://localhost:8080/"
        },
        "id": "dzkoqo5CGGcI",
        "outputId": "dbcf0805-51b1-4d20-dce3-631256e74a5f"
      },
      "execution_count": null,
      "outputs": [
        {
          "output_type": "stream",
          "name": "stdout",
          "text": [
            "3.4641858124067197\n"
          ]
        }
      ]
    },
    {
      "cell_type": "code",
      "source": [
        "from sklearn.datasets import load_breast_cancer\n",
        "cancer = load_breast_cancer()\n",
        "#print(type(cancer))\n",
        "#cancer.keys()\n",
        "#cancer['data']\n",
        "#type(cancer['data'])\n",
        "data = cancer['data']\n",
        "data.shape\n",
        "cancer['target']\n",
        "target = cancer['target']\n",
        "target.shape\n",
        "\n",
        "from sklearn.model_selection import train_test_split\n",
        "train_data, test_data, train_label,test_label = train_test_split(data, target, test_size=0.2)\n",
        "\n",
        "from sklearn.linear_model import LogisticRegression\n",
        "model_lr = LogisticRegression()\n",
        "model_lr.fit(train_data, train_label)\n",
        "prediction_lr = model_lr.predict(test_data)\n",
        "print(prediction_lr)\n",
        "test_label.shape\n",
        "accuracy = sum((prediction_lr == test_label))/114\n",
        "print(accuracy)\n",
        "\n",
        "print(model_lr.coef_)\n",
        "import numpy as np\n",
        "importance = model_lr.coef_.reshape(30,)\n",
        "ordered_index = np.argsort(importance) #작->큰 나열하긴하는데 index값을 줘\n",
        "print(ordered_index)\n",
        "ordered_value = np.sort(importance)\n",
        "print(ordered_value)\n",
        "\n",
        "cancer.keys()\n",
        "importance_list = []\n",
        "for i in ordered_index:\n",
        "  importance_list.append(cancer['feature_names'][i])\n",
        "print(importance_list)"
      ],
      "metadata": {
        "colab": {
          "base_uri": "https://localhost:8080/"
        },
        "id": "sntYVIE-OaNN",
        "outputId": "95579984-accb-4676-b5d5-51d078e3f68a"
      },
      "execution_count": null,
      "outputs": [
        {
          "output_type": "stream",
          "name": "stdout",
          "text": [
            "[1 0 1 1 0 0 1 1 1 0 0 0 1 1 0 1 0 0 1 1 0 1 0 1 1 1 1 1 0 1 0 1 0 1 1 0 0\n",
            " 1 1 0 0 1 1 1 1 1 0 0 1 1 0 0 1 0 1 0 0 0 0 0 0 0 1 0 1 1 0 1 1 0 0 1 1 1\n",
            " 1 1 1 0 1 0 1 1 1 1 1 1 0 1 0 0 0 1 1 0 1 1 1 1 1 1 1 0 1 1 0 1 1 1 1 0 1\n",
            " 1 0 1]\n",
            "0.9122807017543859\n",
            "[[ 0.84376889  0.54676335  0.39893863 -0.02937159 -0.02902145 -0.14328571\n",
            "  -0.1921107  -0.07856011 -0.04538399 -0.00753308  0.04422355  0.32800067\n",
            "   0.12652526 -0.08711468 -0.00217426 -0.03193786 -0.04233674 -0.00963365\n",
            "  -0.00952699 -0.0026707   0.98037454 -0.58114977 -0.31179399 -0.00713326\n",
            "  -0.05092731 -0.45325805 -0.54874821 -0.15036155 -0.13065721 -0.04113294]]\n",
            "[21 26 25 22  6 27  5 28 13  7 24  8 16 29 15  3  4 17 18  9 23 19 14 10\n",
            " 12 11  2  1  0 20]\n",
            "[-0.58114977 -0.54874821 -0.45325805 -0.31179399 -0.1921107  -0.15036155\n",
            " -0.14328571 -0.13065721 -0.08711468 -0.07856011 -0.05092731 -0.04538399\n",
            " -0.04233674 -0.04113294 -0.03193786 -0.02937159 -0.02902145 -0.00963365\n",
            " -0.00952699 -0.00753308 -0.00713326 -0.0026707  -0.00217426  0.04422355\n",
            "  0.12652526  0.32800067  0.39893863  0.54676335  0.84376889  0.98037454]\n",
            "['worst texture', 'worst concavity', 'worst compactness', 'worst perimeter', 'mean concavity', 'worst concave points', 'mean compactness', 'worst symmetry', 'area error', 'mean concave points', 'worst smoothness', 'mean symmetry', 'concavity error', 'worst fractal dimension', 'compactness error', 'mean area', 'mean smoothness', 'concave points error', 'symmetry error', 'mean fractal dimension', 'worst area', 'fractal dimension error', 'smoothness error', 'radius error', 'perimeter error', 'texture error', 'mean perimeter', 'mean texture', 'mean radius', 'worst radius']\n"
          ]
        },
        {
          "output_type": "stream",
          "name": "stderr",
          "text": [
            "/usr/local/lib/python3.7/dist-packages/sklearn/linear_model/_logistic.py:818: ConvergenceWarning: lbfgs failed to converge (status=1):\n",
            "STOP: TOTAL NO. of ITERATIONS REACHED LIMIT.\n",
            "\n",
            "Increase the number of iterations (max_iter) or scale the data as shown in:\n",
            "    https://scikit-learn.org/stable/modules/preprocessing.html\n",
            "Please also refer to the documentation for alternative solver options:\n",
            "    https://scikit-learn.org/stable/modules/linear_model.html#logistic-regression\n",
            "  extra_warning_msg=_LOGISTIC_SOLVER_CONVERGENCE_MSG,\n"
          ]
        }
      ]
    },
    {
      "cell_type": "code",
      "source": [
        "from sklearn.datasets import load_breast_cancer\n",
        "from sklearn.model_selection import train_test_split\n",
        "from sklearn.neighbors import KNeighborsClassifier\n",
        "\n",
        "cancer = load_breast_cancer()\n",
        "data = cancer['data']\n",
        "target = cancer['target']\n",
        "train_data, test_data, train_label,test_label = \\\n",
        "train_test_split(data, target, test_size=0.2,random_state=1)\n",
        "model_knn = KNeighborsClassifier()\n",
        "model_knn.fit(train_data, train_label)\n",
        "prediction_knn = model_knn.predict(test_data)\n",
        "accuracy = sum((prediction_knn == test_label))/len(test_label)\n",
        "print(accuracy)"
      ],
      "metadata": {
        "colab": {
          "base_uri": "https://localhost:8080/"
        },
        "id": "HSEtP3gudI2l",
        "outputId": "ecb925f9-f7d4-43a0-f2da-92356b63bb94"
      },
      "execution_count": null,
      "outputs": [
        {
          "output_type": "stream",
          "name": "stdout",
          "text": [
            "0.9385964912280702\n"
          ]
        }
      ]
    },
    {
      "cell_type": "code",
      "source": [
        "from sklearn.datasets import load_breast_cancer\n",
        "from sklearn.model_selection import train_test_split\n",
        "from sklearn.svm import SVC\n",
        "\n",
        "cancer = load_breast_cancer()\n",
        "data = cancer['data']\n",
        "target = cancer['target']\n",
        "train_data, test_data, train_label,test_label = \\\n",
        "train_test_split(data, target, test_size=0.2,random_state=1)\n",
        "model_svc = SVC()\n",
        "model_svc.fit(train_data, train_label)\n",
        "prediction_svc = model_svc.predict(test_data)\n",
        "accuracy = sum((prediction_svc == test_label))/len(test_label)\n",
        "print(accuracy)"
      ],
      "metadata": {
        "colab": {
          "base_uri": "https://localhost:8080/"
        },
        "id": "h1UGTLIohtal",
        "outputId": "f789c829-f4c5-4b45-8060-8ef01cded9c8"
      },
      "execution_count": null,
      "outputs": [
        {
          "output_type": "stream",
          "name": "stdout",
          "text": [
            "0.9035087719298246\n"
          ]
        }
      ]
    },
    {
      "cell_type": "code",
      "source": [
        "from sklearn.datasets import load_breast_cancer\n",
        "from sklearn.model_selection import train_test_split\n",
        "from sklearn.tree import DecisionTreeClassifier\n",
        "\n",
        "cancer = load_breast_cancer()\n",
        "data = cancer['data']\n",
        "target = cancer['target']\n",
        "train_data, test_data, train_label,test_label = \\\n",
        "train_test_split(data, target, test_size=0.2,random_state=1)\n",
        "model_tree = DecisionTreeClassifier()\n",
        "model_tree.fit(train_data, train_label)\n",
        "prediction_tree = model_tree.predict(test_data)\n",
        "accuracy = sum((prediction_tree == test_label))/len(test_label)\n",
        "print(accuracy)"
      ],
      "metadata": {
        "colab": {
          "base_uri": "https://localhost:8080/"
        },
        "id": "LOjcooDapMdE",
        "outputId": "24c202b3-2c13-4d37-8da5-6f36b765be56"
      },
      "execution_count": null,
      "outputs": [
        {
          "output_type": "stream",
          "name": "stdout",
          "text": [
            "0.9473684210526315\n"
          ]
        }
      ]
    },
    {
      "cell_type": "code",
      "source": [
        "importance = model_tree.feature_importances_\n",
        "\n",
        "ordered_index = np.argsort(importance)\n",
        "ordered_value = np.sort(importance)\n",
        "\n",
        "importance_list = []\n",
        "for i in ordered_index:\n",
        "  importance_list.append(cancer['feature_names'][i])\n",
        "print(ordered_value)\n",
        "print(importance_list)"
      ],
      "metadata": {
        "colab": {
          "base_uri": "https://localhost:8080/"
        },
        "id": "25gkWNQ3sSZk",
        "outputId": "d3dbdef4-4f68-440f-ecde-b54d858b4534"
      },
      "execution_count": null,
      "outputs": [
        {
          "output_type": "stream",
          "name": "stdout",
          "text": [
            "[0.         0.         0.         0.         0.         0.\n",
            " 0.         0.         0.         0.         0.         0.\n",
            " 0.         0.         0.         0.         0.         0.\n",
            " 0.0030934  0.00626075 0.00782594 0.00782594 0.00932724 0.02048973\n",
            " 0.02677294 0.02884436 0.04173833 0.04404337 0.07448757 0.72929043]\n",
            "['mean radius', 'worst concavity', 'worst radius', 'symmetry error', 'concave points error', 'concavity error', 'worst symmetry', 'perimeter error', 'texture error', 'smoothness error', 'worst fractal dimension', 'mean symmetry', 'mean perimeter', 'mean fractal dimension', 'mean concavity', 'mean area', 'mean compactness', 'mean smoothness', 'radius error', 'fractal dimension error', 'area error', 'worst compactness', 'worst smoothness', 'mean texture', 'worst area', 'mean concave points', 'compactness error', 'worst concave points', 'worst texture', 'worst perimeter']\n"
          ]
        }
      ]
    },
    {
      "cell_type": "code",
      "source": [
        "from sklearn.datasets import load_breast_cancer\n",
        "from sklearn.model_selection import train_test_split\n",
        "from sklearn.ensemble import RandomForestClassifier\n",
        "\n",
        "cancer = load_breast_cancer()\n",
        "data = cancer['data']\n",
        "target = cancer['target']\n",
        "train_data, test_data, train_label,test_label = \\\n",
        "train_test_split(data, target, test_size=0.2,random_state=1)\n",
        "model_rf = RandomForestClassifier()\n",
        "model_rf.fit(train_data, train_label)\n",
        "prediction_rf = model_rf.predict(test_data)\n",
        "accuracy = sum((prediction_rf == test_label))/len(test_label)\n",
        "print(accuracy)"
      ],
      "metadata": {
        "colab": {
          "base_uri": "https://localhost:8080/"
        },
        "id": "5U_Jsq6JvbOA",
        "outputId": "76176497-3d3e-4969-fec9-3732ee18b3ff"
      },
      "execution_count": null,
      "outputs": [
        {
          "output_type": "stream",
          "name": "stdout",
          "text": [
            "0.9473684210526315\n"
          ]
        }
      ]
    },
    {
      "cell_type": "code",
      "source": [
        "from sklearn.datasets import load_breast_cancer\n",
        "from sklearn.model_selection import train_test_split\n",
        "import xgboost as xgb\n",
        "\n",
        "cancer = load_breast_cancer()\n",
        "data = cancer['data']\n",
        "target = cancer['target']\n",
        "train_data, test_data, train_label,test_label = \\\n",
        "train_test_split(data, target, test_size=0.2,random_state=1)\n",
        "model_xg = xgb.XGBClassifier()\n",
        "model_xg.fit(train_data, train_label)\n",
        "prediction_xg = model_xg.predict(test_data)\n",
        "accuracy = sum((prediction_xg == test_label))/len(test_label)\n",
        "print(accuracy)"
      ],
      "metadata": {
        "colab": {
          "base_uri": "https://localhost:8080/"
        },
        "id": "1fa6E3Wa0q3W",
        "outputId": "e298a30f-15a1-4461-9d44-21b17921bd2a"
      },
      "execution_count": null,
      "outputs": [
        {
          "output_type": "stream",
          "name": "stdout",
          "text": [
            "0.956140350877193\n"
          ]
        }
      ]
    }
  ]
}